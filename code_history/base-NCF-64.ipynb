{
 "cells": [
  {
   "cell_type": "code",
   "execution_count": 1,
   "metadata": {},
   "outputs": [],
   "source": [
    "import pandas as pd\n",
    "import re\n",
    "import numpy as np\n",
    "from sklearn.utils import shuffle\n",
    "from tqdm import tqdm\n",
    "import random\n",
    "from itertools import product"
   ]
  },
  {
   "cell_type": "markdown",
   "metadata": {},
   "source": [
    "# 1. 데이터 생성 및 전처리 과정"
   ]
  },
  {
   "cell_type": "markdown",
   "metadata": {},
   "source": [
    "## 1-1 기존 데이터 (user_course에 학과, 과목 삭제 조건 적용)"
   ]
  },
  {
   "cell_type": "code",
   "execution_count": 2,
   "metadata": {},
   "outputs": [],
   "source": [
    "# data initialization\n",
    "user_major = {}\n",
    "category_course = {}\n",
    "major_category = pd.read_csv('./data/major_category.csv', encoding='CP949', header=None)\n",
    "major_course={}\n",
    "userlist=[]\n",
    "courselist=[]\n",
    "elelist=[]\n",
    "ele_course=[]\n",
    "\n",
    "# hakno re\n",
    "coursere=re.compile('^[A-Z]{3}\\d*')\n",
    "\n",
    "# category, deluniv input\n",
    "with open('./data/catlist.txt', encoding='UTF-8') as f:\n",
    "    valid_category = [cate.split(\"\\t\")[0] for cate in f.readlines()]\n",
    "with open('./data/elelist.txt', encoding='UTF-8') as f:\n",
    "    elelist = [cate.split(\"\\t\")[0] for cate in f.readlines()]\n",
    "with open('./data/deluniv.txt', encoding='UTF-8') as f:\n",
    "    deluniv = [univ[:-1] for univ in f.readlines()]\n",
    "    \n",
    "# data creation\n",
    "user_course = pd.read_csv('./data/course_userdata.csv', low_memory=False, header=None)\n",
    "for row in user_course.values:\n",
    "    if (row[1] in deluniv or str(row[4]) not in valid_category or re.match(coursere, row[5]) == None):\n",
    "        continue\n",
    "    user = row[0]\n",
    "    major = row[1] + '_' + row[2]\n",
    "    category = row[4]\n",
    "    course = re.search(coursere, row[5]).group()\n",
    "    year = row[6]\n",
    "    term = row[7]\n",
    "    if user not in user_major:\n",
    "        user_major[user] = [major]\n",
    "        userlist.append(user)\n",
    "    elif major not in user_major[user]:\n",
    "        user_major[user].append(major)\n",
    "\n",
    "    if category not in category_course:\n",
    "        category_course[category] = [course]\n",
    "    elif course not in category_course[category]:\n",
    "        category_course[category].append(course)\n",
    "\n",
    "    if (category in elelist and course not in ele_course):\n",
    "        ele_course.append(course)\n",
    "\n",
    "    if course not in courselist:\n",
    "        courselist.append(course)\n",
    "\n",
    "for row in major_category.values:\n",
    "    if row[0] not in major_course:\n",
    "        major_course[row[0]] = category_course[row[1]]\n",
    "    else:\n",
    "        major_course[row[0]] += category_course[row[1]]"
   ]
  },
  {
   "cell_type": "code",
   "execution_count": 3,
   "metadata": {
    "scrolled": true
   },
   "outputs": [
    {
     "name": "stdout",
     "output_type": "stream",
     "text": [
      "1920266\n"
     ]
    },
    {
     "data": {
      "text/html": [
       "<div>\n",
       "<style scoped>\n",
       "    .dataframe tbody tr th:only-of-type {\n",
       "        vertical-align: middle;\n",
       "    }\n",
       "\n",
       "    .dataframe tbody tr th {\n",
       "        vertical-align: top;\n",
       "    }\n",
       "\n",
       "    .dataframe thead th {\n",
       "        text-align: right;\n",
       "    }\n",
       "</style>\n",
       "<table border=\"1\" class=\"dataframe\">\n",
       "  <thead>\n",
       "    <tr style=\"text-align: right;\">\n",
       "      <th></th>\n",
       "      <th>0</th>\n",
       "      <th>1</th>\n",
       "      <th>2</th>\n",
       "      <th>3</th>\n",
       "      <th>4</th>\n",
       "      <th>5</th>\n",
       "      <th>6</th>\n",
       "      <th>7</th>\n",
       "      <th>8</th>\n",
       "    </tr>\n",
       "  </thead>\n",
       "  <tbody>\n",
       "    <tr>\n",
       "      <th>0</th>\n",
       "      <td>11900</td>\n",
       "      <td>문과대학</td>\n",
       "      <td>사학</td>\n",
       "      <td>현대사회와심리학</td>\n",
       "      <td>26</td>\n",
       "      <td>UF122-09</td>\n",
       "      <td>2003</td>\n",
       "      <td>1</td>\n",
       "      <td>문과대학</td>\n",
       "    </tr>\n",
       "    <tr>\n",
       "      <th>1</th>\n",
       "      <td>71964</td>\n",
       "      <td>음악대학</td>\n",
       "      <td>기악과</td>\n",
       "      <td>현대사회와심리학</td>\n",
       "      <td>26</td>\n",
       "      <td>UF122-09</td>\n",
       "      <td>2003</td>\n",
       "      <td>1</td>\n",
       "      <td>문과대학</td>\n",
       "    </tr>\n",
       "    <tr>\n",
       "      <th>2</th>\n",
       "      <td>50516</td>\n",
       "      <td>교육과학대학</td>\n",
       "      <td>교육학과</td>\n",
       "      <td>현대사회와심리학</td>\n",
       "      <td>26</td>\n",
       "      <td>UF122-09</td>\n",
       "      <td>2003</td>\n",
       "      <td>1</td>\n",
       "      <td>문과대학</td>\n",
       "    </tr>\n",
       "    <tr>\n",
       "      <th>3</th>\n",
       "      <td>232</td>\n",
       "      <td>이과대학</td>\n",
       "      <td>천문우주학</td>\n",
       "      <td>현대사회와심리학</td>\n",
       "      <td>26</td>\n",
       "      <td>UF122-09</td>\n",
       "      <td>2003</td>\n",
       "      <td>1</td>\n",
       "      <td>문과대학</td>\n",
       "    </tr>\n",
       "    <tr>\n",
       "      <th>4</th>\n",
       "      <td>71826</td>\n",
       "      <td>공과대학</td>\n",
       "      <td>세라믹공학</td>\n",
       "      <td>현대사회와심리학</td>\n",
       "      <td>26</td>\n",
       "      <td>UF122-09</td>\n",
       "      <td>2003</td>\n",
       "      <td>1</td>\n",
       "      <td>문과대학</td>\n",
       "    </tr>\n",
       "  </tbody>\n",
       "</table>\n",
       "</div>"
      ],
      "text/plain": [
       "       0       1      2         3   4         5     6  7     8\n",
       "0  11900    문과대학     사학  현대사회와심리학  26  UF122-09  2003  1  문과대학\n",
       "1  71964    음악대학    기악과  현대사회와심리학  26  UF122-09  2003  1  문과대학\n",
       "2  50516  교육과학대학   교육학과  현대사회와심리학  26  UF122-09  2003  1  문과대학\n",
       "3    232    이과대학  천문우주학  현대사회와심리학  26  UF122-09  2003  1  문과대학\n",
       "4  71826    공과대학  세라믹공학  현대사회와심리학  26  UF122-09  2003  1  문과대학"
      ]
     },
     "execution_count": 3,
     "metadata": {},
     "output_type": "execute_result"
    }
   ],
   "source": [
    "print(len(user_course))\n",
    "user_course.head()"
   ]
  },
  {
   "cell_type": "markdown",
   "metadata": {},
   "source": [
    "## 1-2 학습을 위한 추가 전처리"
   ]
  },
  {
   "cell_type": "code",
   "execution_count": 4,
   "metadata": {},
   "outputs": [
    {
     "name": "stdout",
     "output_type": "stream",
     "text": [
      "17-2에 수업 들었던 학생 : 12271\n",
      "15,16,17-1에 수업 들었던 학생 : 26906\n",
      "17년 2월에 수업 들었던 학생 중 나머지 학기에도 들었던 학생 : 12031\n"
     ]
    }
   ],
   "source": [
    "# 데이터 수정을 위해 컬럼명 지정\n",
    "user_course.columns = ['a','b','c','d','e','f','g','h','i']\n",
    "\n",
    "#a:삭제 대상 학과, b:고려대상 과목, c:조건에 해당하는 user, d:15,16,17년도 각각 조건 적용\n",
    "a = ~user_course.b.isin(deluniv)\n",
    "b = user_course.f.str.contains(coursere)\n",
    "c = user_course.a.isin(userlist)\n",
    "d = user_course.g.isin([2015,2016,2017])\n",
    "user_course = user_course[a & b & c & d]\n",
    "\n",
    "#j 컬럼에 학정번호 앞부분 저장(분반제거) ex) CEE4402-01 > CEE4402\n",
    "user_course['j'] = user_course['f'].str.findall(coursere)\n",
    "user_course['j'] = user_course.f.str.split('-').str[0]\n",
    "user_course = user_course[user_course['j'].isin(courselist)]\n",
    "\n",
    "#17-2에 수업 들었던 학생(user_20172), 15,16,17-1에 수업 들었던 학생(user_left)\n",
    "#17년 2월에 수업 들었던 학생 중 나머지 학기에도 들었던 학생(user_fit)리스트 저장\n",
    "user_20172 = list(set(user_course[(user_course['g'] == 2017) & (user_course['h'] == 2)]['a'].tolist()))\n",
    "user_left = list(set(user_course[~((user_course['g'] == 2017) & (user_course['h'] == 2))]['a'].tolist()))\n",
    "user_fit = []\n",
    "for i in user_20172:\n",
    "    if i in user_left:\n",
    "        user_fit.append(i)\n",
    "\n",
    "#user_fit에 해당하는 학생들의 데이터만 남겨서 user_course에 filtering\n",
    "user_course = user_course[user_course.a.isin(user_fit)]\n",
    "        \n",
    "#2017년 2학기 개강한 수업(course_20172_list)\n",
    "course_20172_list = list(set(user_course[(user_course['g'] == 2017) & (user_course['h'] == 2)]['j'].tolist()))\n",
    "\n",
    "print(\"17-2에 수업 들었던 학생 : {}\".format(len(user_20172)))\n",
    "print(\"15,16,17-1에 수업 들었던 학생 : {}\".format(len(user_left)))\n",
    "print(\"17년 2월에 수업 들었던 학생 중 나머지 학기에도 들었던 학생 : {}\".format(len(user_fit)))"
   ]
  },
  {
   "cell_type": "code",
   "execution_count": 5,
   "metadata": {
    "scrolled": true
   },
   "outputs": [
    {
     "name": "stdout",
     "output_type": "stream",
     "text": [
      "285482\n"
     ]
    },
    {
     "data": {
      "text/html": [
       "<div>\n",
       "<style scoped>\n",
       "    .dataframe tbody tr th:only-of-type {\n",
       "        vertical-align: middle;\n",
       "    }\n",
       "\n",
       "    .dataframe tbody tr th {\n",
       "        vertical-align: top;\n",
       "    }\n",
       "\n",
       "    .dataframe thead th {\n",
       "        text-align: right;\n",
       "    }\n",
       "</style>\n",
       "<table border=\"1\" class=\"dataframe\">\n",
       "  <thead>\n",
       "    <tr style=\"text-align: right;\">\n",
       "      <th></th>\n",
       "      <th>a</th>\n",
       "      <th>b</th>\n",
       "      <th>c</th>\n",
       "      <th>d</th>\n",
       "      <th>e</th>\n",
       "      <th>f</th>\n",
       "      <th>g</th>\n",
       "      <th>h</th>\n",
       "      <th>i</th>\n",
       "      <th>j</th>\n",
       "    </tr>\n",
       "  </thead>\n",
       "  <tbody>\n",
       "    <tr>\n",
       "      <th>564948</th>\n",
       "      <td>154440</td>\n",
       "      <td>공과대학</td>\n",
       "      <td>토목·환경공학</td>\n",
       "      <td>구조시스템설계</td>\n",
       "      <td>179</td>\n",
       "      <td>CEE4402-01</td>\n",
       "      <td>2015</td>\n",
       "      <td>1</td>\n",
       "      <td>토목환경공학전공</td>\n",
       "      <td>CEE4402</td>\n",
       "    </tr>\n",
       "    <tr>\n",
       "      <th>564964</th>\n",
       "      <td>139425</td>\n",
       "      <td>공과대학</td>\n",
       "      <td>토목·환경공학</td>\n",
       "      <td>구조시스템설계</td>\n",
       "      <td>179</td>\n",
       "      <td>CEE4402-01</td>\n",
       "      <td>2015</td>\n",
       "      <td>1</td>\n",
       "      <td>토목환경공학전공</td>\n",
       "      <td>CEE4402</td>\n",
       "    </tr>\n",
       "    <tr>\n",
       "      <th>564969</th>\n",
       "      <td>190801</td>\n",
       "      <td>공과대학</td>\n",
       "      <td>화공생명공학</td>\n",
       "      <td>공학수학(3)</td>\n",
       "      <td>179</td>\n",
       "      <td>MAT2016-07</td>\n",
       "      <td>2015</td>\n",
       "      <td>1</td>\n",
       "      <td>토목환경공학전공</td>\n",
       "      <td>MAT2016</td>\n",
       "    </tr>\n",
       "    <tr>\n",
       "      <th>564973</th>\n",
       "      <td>189376</td>\n",
       "      <td>공과대학</td>\n",
       "      <td>기계공학</td>\n",
       "      <td>공학수학(3)</td>\n",
       "      <td>179</td>\n",
       "      <td>MAT2016-07</td>\n",
       "      <td>2015</td>\n",
       "      <td>1</td>\n",
       "      <td>토목환경공학전공</td>\n",
       "      <td>MAT2016</td>\n",
       "    </tr>\n",
       "    <tr>\n",
       "      <th>564975</th>\n",
       "      <td>188577</td>\n",
       "      <td>공과대학</td>\n",
       "      <td>토목·환경공학</td>\n",
       "      <td>공학수학(3)</td>\n",
       "      <td>179</td>\n",
       "      <td>MAT2016-07</td>\n",
       "      <td>2015</td>\n",
       "      <td>1</td>\n",
       "      <td>토목환경공학전공</td>\n",
       "      <td>MAT2016</td>\n",
       "    </tr>\n",
       "  </tbody>\n",
       "</table>\n",
       "</div>"
      ],
      "text/plain": [
       "             a     b        c        d    e           f     g  h         i  \\\n",
       "564948  154440  공과대학  토목·환경공학  구조시스템설계  179  CEE4402-01  2015  1  토목환경공학전공   \n",
       "564964  139425  공과대학  토목·환경공학  구조시스템설계  179  CEE4402-01  2015  1  토목환경공학전공   \n",
       "564969  190801  공과대학   화공생명공학  공학수학(3)  179  MAT2016-07  2015  1  토목환경공학전공   \n",
       "564973  189376  공과대학     기계공학  공학수학(3)  179  MAT2016-07  2015  1  토목환경공학전공   \n",
       "564975  188577  공과대학  토목·환경공학  공학수학(3)  179  MAT2016-07  2015  1  토목환경공학전공   \n",
       "\n",
       "              j  \n",
       "564948  CEE4402  \n",
       "564964  CEE4402  \n",
       "564969  MAT2016  \n",
       "564973  MAT2016  \n",
       "564975  MAT2016  "
      ]
     },
     "execution_count": 5,
     "metadata": {},
     "output_type": "execute_result"
    }
   ],
   "source": [
    "# user_course (1920266 > 285482)\n",
    "print(len(user_course))\n",
    "user_course.head()"
   ]
  },
  {
   "cell_type": "markdown",
   "metadata": {},
   "source": [
    "# 2. NCF 학습"
   ]
  },
  {
   "cell_type": "markdown",
   "metadata": {},
   "source": [
    "## 2-1 학습 데이터 생성"
   ]
  },
  {
   "cell_type": "markdown",
   "metadata": {},
   "source": [
    "user_course['user_id'] = user_course['a'].astype(\"category\").cat.codes\n",
    "user_course['item_id'] = user_course['j'].astype(\"category\").cat.codes\n",
    "df_to_node2vec = user_course[['a','b','c','d','j','i','g','h','user_id','item_id']].copy()\n",
    "df_to_node2vec.columns = ['user', 'major1', 'major2', 'item_name', 'item_num', 'item_major', 'year', 'semester', 'user_id', 'item_id']\n",
    "df_to_node2vec = df_to_node2vec.reset_index(drop=True)"
   ]
  },
  {
   "cell_type": "markdown",
   "metadata": {},
   "source": [
    "##### 데이터 전달\n",
    "df_to_node2vec.to_csv('./data/df_to_node2vec.csv',encoding=\"CP949\")"
   ]
  },
  {
   "cell_type": "code",
   "execution_count": 6,
   "metadata": {},
   "outputs": [
    {
     "name": "stdout",
     "output_type": "stream",
     "text": [
      "# of train users : 12031\n",
      "# of train items : 2987\n",
      "# of interactions : 285482\n",
      "train inter : 220708\n",
      "test inter : 64774\n"
     ]
    }
   ],
   "source": [
    "user_course_inter_df = user_course[['a','j','g','h']].copy()\n",
    "user_course_inter_df.columns = ['user','item','year','sem']\n",
    "user_course_inter_df = user_course_inter_df.reset_index(drop=True)\n",
    "\n",
    "# item_id 부여 + user_id column 추가\n",
    "user_course_inter_df['user_id'] = user_course_inter_df['user'].astype(\"category\").cat.codes\n",
    "user_course_inter_df['item_id'] = user_course_inter_df['item'].astype(\"category\").cat.codes\n",
    "\n",
    "users = list(np.sort(user_course_inter_df.user_id.unique()))\n",
    "items = list(np.sort(user_course_inter_df.item_id.unique()))\n",
    "\n",
    "user_course_train = user_course_inter_df[~((user_course_inter_df['year'] == 2017) & (user_course_inter_df['sem'] == 2))]\n",
    "user_course_test = user_course_inter_df[(user_course_inter_df['year'] == 2017) & (user_course_inter_df['sem'] == 2)]\n",
    "\n",
    "print(\"# of train users : {}\".format(len(users)))\n",
    "print(\"# of train items : {}\".format(len(items)))\n",
    "print(\"# of interactions : {}\".format(len(user_course_inter_df)))\n",
    "\n",
    "\n",
    "print(\"train inter : {}\".format(len(user_course_train)))\n",
    "print(\"test inter : {}\".format(len(user_course_test)))"
   ]
  },
  {
   "cell_type": "markdown",
   "metadata": {},
   "source": [
    "## 2-2 negative case 생성"
   ]
  },
  {
   "cell_type": "code",
   "execution_count": 7,
   "metadata": {},
   "outputs": [],
   "source": [
    "import random"
   ]
  },
  {
   "cell_type": "code",
   "execution_count": 8,
   "metadata": {},
   "outputs": [
    {
     "name": "stderr",
     "output_type": "stream",
     "text": [
      "100%|███████████████████████████████████████████████████████████████████████████| 12031/12031 [00:16<00:00, 733.14it/s]\n"
     ]
    }
   ],
   "source": [
    "neg_num=4\n",
    "neg_full_u = []\n",
    "neg_full_i = []\n",
    "\n",
    "for u in tqdm(users):\n",
    "    train_num = len(user_course_train[user_course_train['user_id']==u])\n",
    "    full = {i for i in range(len(items))}\n",
    "    asis = set(user_course_inter_df[user_course_inter_df['user_id']==u]['item_id'].tolist())\n",
    "    \n",
    "    temp_neg_u = [u for i in range(train_num*neg_num)]\n",
    "    temp_neg_i = random.sample(list(full-asis), train_num*neg_num)\n",
    "    \n",
    "    neg_full_u.extend(temp_neg_u)\n",
    "    neg_full_i.extend(temp_neg_i)  "
   ]
  },
  {
   "cell_type": "markdown",
   "metadata": {},
   "source": [
    "## 2-3 train_df 만들기"
   ]
  },
  {
   "cell_type": "code",
   "execution_count": 9,
   "metadata": {},
   "outputs": [
    {
     "name": "stdout",
     "output_type": "stream",
     "text": [
      "1103540 1103540 1103540\n"
     ]
    }
   ],
   "source": [
    "u_df = user_course_train['user_id'].tolist()\n",
    "u_df.extend(neg_full_u)\n",
    "\n",
    "i_df = user_course_train['item_id'].tolist()\n",
    "i_df.extend(neg_full_i)\n",
    "\n",
    "p_df = [1 for i in range(len(user_course_train))]\n",
    "p_df.extend([0 for i in range(len(neg_full_u))])\n",
    "\n",
    "print(len(u_df),len(i_df),len(p_df))\n",
    "\n",
    "train_df = pd.DataFrame({'user_id':u_df, 'item_id':i_df, 'plays':p_df})"
   ]
  },
  {
   "cell_type": "markdown",
   "metadata": {},
   "source": [
    "## 모델 인풋 생성 + shuff"
   ]
  },
  {
   "cell_type": "code",
   "execution_count": 10,
   "metadata": {},
   "outputs": [
    {
     "name": "stdout",
     "output_type": "stream",
     "text": [
      "1103540\n",
      "1103540\n",
      "1103540\n"
     ]
    }
   ],
   "source": [
    "# train user, item 리스트 생성\n",
    "rows = train_df['user_id'].astype(int)\n",
    "cols = train_df['item_id'].astype(int)\n",
    "values = list(train_df.plays)\n",
    "\n",
    "uids = np.array(rows.tolist())\n",
    "iids = np.array(cols.tolist())\n",
    "\n",
    "user_input = uids.tolist()\n",
    "item_input = iids.tolist()\n",
    "labels = values\n",
    "\n",
    "user_data_shuff, item_data_shuff, label_data_shuff = shuffle(user_input, item_input, labels)\n",
    "user_data_shuff = np.array(user_data_shuff).reshape(-1,1)\n",
    "item_data_shuff = np.array(item_data_shuff).reshape(-1,1)\n",
    "label_data_shuff = np.array(label_data_shuff).reshape(-1,1)\n",
    "\n",
    "print(len(user_data_shuff))\n",
    "print(len(item_data_shuff))\n",
    "print(len(label_data_shuff))"
   ]
  },
  {
   "cell_type": "code",
   "execution_count": 11,
   "metadata": {},
   "outputs": [
    {
     "data": {
      "text/html": [
       "<div>\n",
       "<style scoped>\n",
       "    .dataframe tbody tr th:only-of-type {\n",
       "        vertical-align: middle;\n",
       "    }\n",
       "\n",
       "    .dataframe tbody tr th {\n",
       "        vertical-align: top;\n",
       "    }\n",
       "\n",
       "    .dataframe thead th {\n",
       "        text-align: right;\n",
       "    }\n",
       "</style>\n",
       "<table border=\"1\" class=\"dataframe\">\n",
       "  <thead>\n",
       "    <tr style=\"text-align: right;\">\n",
       "      <th></th>\n",
       "      <th>user</th>\n",
       "      <th>item</th>\n",
       "      <th>year</th>\n",
       "      <th>sem</th>\n",
       "      <th>user_id</th>\n",
       "      <th>item_id</th>\n",
       "    </tr>\n",
       "  </thead>\n",
       "  <tbody>\n",
       "    <tr>\n",
       "      <th>0</th>\n",
       "      <td>154440</td>\n",
       "      <td>CEE4402</td>\n",
       "      <td>2015</td>\n",
       "      <td>1</td>\n",
       "      <td>258</td>\n",
       "      <td>430</td>\n",
       "    </tr>\n",
       "    <tr>\n",
       "      <th>1</th>\n",
       "      <td>139425</td>\n",
       "      <td>CEE4402</td>\n",
       "      <td>2015</td>\n",
       "      <td>1</td>\n",
       "      <td>173</td>\n",
       "      <td>430</td>\n",
       "    </tr>\n",
       "    <tr>\n",
       "      <th>2</th>\n",
       "      <td>190801</td>\n",
       "      <td>MAT2016</td>\n",
       "      <td>2015</td>\n",
       "      <td>1</td>\n",
       "      <td>2206</td>\n",
       "      <td>1795</td>\n",
       "    </tr>\n",
       "    <tr>\n",
       "      <th>3</th>\n",
       "      <td>189376</td>\n",
       "      <td>MAT2016</td>\n",
       "      <td>2015</td>\n",
       "      <td>1</td>\n",
       "      <td>1922</td>\n",
       "      <td>1795</td>\n",
       "    </tr>\n",
       "    <tr>\n",
       "      <th>4</th>\n",
       "      <td>188577</td>\n",
       "      <td>MAT2016</td>\n",
       "      <td>2015</td>\n",
       "      <td>1</td>\n",
       "      <td>1617</td>\n",
       "      <td>1795</td>\n",
       "    </tr>\n",
       "    <tr>\n",
       "      <th>...</th>\n",
       "      <td>...</td>\n",
       "      <td>...</td>\n",
       "      <td>...</td>\n",
       "      <td>...</td>\n",
       "      <td>...</td>\n",
       "      <td>...</td>\n",
       "    </tr>\n",
       "    <tr>\n",
       "      <th>283360</th>\n",
       "      <td>323663</td>\n",
       "      <td>UCB1104</td>\n",
       "      <td>2017</td>\n",
       "      <td>1</td>\n",
       "      <td>9852</td>\n",
       "      <td>2880</td>\n",
       "    </tr>\n",
       "    <tr>\n",
       "      <th>283361</th>\n",
       "      <td>350112</td>\n",
       "      <td>UCB1104</td>\n",
       "      <td>2017</td>\n",
       "      <td>1</td>\n",
       "      <td>11962</td>\n",
       "      <td>2880</td>\n",
       "    </tr>\n",
       "    <tr>\n",
       "      <th>283362</th>\n",
       "      <td>348964</td>\n",
       "      <td>UCB1104</td>\n",
       "      <td>2017</td>\n",
       "      <td>1</td>\n",
       "      <td>11808</td>\n",
       "      <td>2880</td>\n",
       "    </tr>\n",
       "    <tr>\n",
       "      <th>283363</th>\n",
       "      <td>348965</td>\n",
       "      <td>UCB1104</td>\n",
       "      <td>2017</td>\n",
       "      <td>1</td>\n",
       "      <td>11809</td>\n",
       "      <td>2880</td>\n",
       "    </tr>\n",
       "    <tr>\n",
       "      <th>285481</th>\n",
       "      <td>190482</td>\n",
       "      <td>YCA1103</td>\n",
       "      <td>2015</td>\n",
       "      <td>1</td>\n",
       "      <td>2164</td>\n",
       "      <td>2962</td>\n",
       "    </tr>\n",
       "  </tbody>\n",
       "</table>\n",
       "<p>220708 rows × 6 columns</p>\n",
       "</div>"
      ],
      "text/plain": [
       "          user     item  year  sem  user_id  item_id\n",
       "0       154440  CEE4402  2015    1      258      430\n",
       "1       139425  CEE4402  2015    1      173      430\n",
       "2       190801  MAT2016  2015    1     2206     1795\n",
       "3       189376  MAT2016  2015    1     1922     1795\n",
       "4       188577  MAT2016  2015    1     1617     1795\n",
       "...        ...      ...   ...  ...      ...      ...\n",
       "283360  323663  UCB1104  2017    1     9852     2880\n",
       "283361  350112  UCB1104  2017    1    11962     2880\n",
       "283362  348964  UCB1104  2017    1    11808     2880\n",
       "283363  348965  UCB1104  2017    1    11809     2880\n",
       "285481  190482  YCA1103  2015    1     2164     2962\n",
       "\n",
       "[220708 rows x 6 columns]"
      ]
     },
     "execution_count": 11,
     "metadata": {},
     "output_type": "execute_result"
    }
   ],
   "source": [
    "user_course_train"
   ]
  },
  {
   "cell_type": "markdown",
   "metadata": {},
   "source": [
    "# 모델"
   ]
  },
  {
   "cell_type": "code",
   "execution_count": 12,
   "metadata": {},
   "outputs": [],
   "source": [
    "from model.NeuMF import NeuMF"
   ]
  },
  {
   "cell_type": "code",
   "execution_count": 13,
   "metadata": {},
   "outputs": [
    {
     "name": "stdout",
     "output_type": "stream",
     "text": [
      "Tensor(\"flatten/Reshape:0\", shape=(None, 64), dtype=float32)\n",
      "Tensor(\"flatten_1/Reshape:0\", shape=(None, 64), dtype=float32)\n",
      "Tensor(\"flatten_2/Reshape:0\", shape=(None, 64), dtype=float32)\n",
      "Tensor(\"flatten_3/Reshape:0\", shape=(None, 64), dtype=float32)\n"
     ]
    }
   ],
   "source": [
    "nmf64 = NeuMF(len(users), len(items), emb_size=64)\n",
    "model=nmf64.get_model()"
   ]
  },
  {
   "cell_type": "code",
   "execution_count": 14,
   "metadata": {},
   "outputs": [
    {
     "name": "stdout",
     "output_type": "stream",
     "text": [
      "Model: \"functional_1\"\n",
      "__________________________________________________________________________________________________\n",
      "Layer (type)                    Output Shape         Param #     Connected to                     \n",
      "==================================================================================================\n",
      "input_1 (InputLayer)            [(None, 1)]          0                                            \n",
      "__________________________________________________________________________________________________\n",
      "input_2 (InputLayer)            [(None, 1)]          0                                            \n",
      "__________________________________________________________________________________________________\n",
      "embedding_2 (Embedding)         (None, 1, 64)        769984      input_1[0][0]                    \n",
      "__________________________________________________________________________________________________\n",
      "embedding_3 (Embedding)         (None, 1, 64)        191168      input_2[0][0]                    \n",
      "__________________________________________________________________________________________________\n",
      "flatten_2 (Flatten)             (None, 64)           0           embedding_2[0][0]                \n",
      "__________________________________________________________________________________________________\n",
      "flatten_3 (Flatten)             (None, 64)           0           embedding_3[0][0]                \n",
      "__________________________________________________________________________________________________\n",
      "concatenate (Concatenate)       (None, 128)          0           flatten_2[0][0]                  \n",
      "                                                                 flatten_3[0][0]                  \n",
      "__________________________________________________________________________________________________\n",
      "dropout (Dropout)               (None, 128)          0           concatenate[0][0]                \n",
      "__________________________________________________________________________________________________\n",
      "mlp_layer1 (Dense)              (None, 64)           8256        dropout[0][0]                    \n",
      "__________________________________________________________________________________________________\n",
      "dropout1 (Dropout)              (None, 64)           0           mlp_layer1[0][0]                 \n",
      "__________________________________________________________________________________________________\n",
      "batch_norm1 (BatchNormalization (None, 64)           256         dropout1[0][0]                   \n",
      "__________________________________________________________________________________________________\n",
      "mlp_layer2 (Dense)              (None, 32)           2080        batch_norm1[0][0]                \n",
      "__________________________________________________________________________________________________\n",
      "dropout2 (Dropout)              (None, 32)           0           mlp_layer2[0][0]                 \n",
      "__________________________________________________________________________________________________\n",
      "embedding (Embedding)           (None, 1, 64)        769984      input_1[0][0]                    \n",
      "__________________________________________________________________________________________________\n",
      "embedding_1 (Embedding)         (None, 1, 64)        191168      input_2[0][0]                    \n",
      "__________________________________________________________________________________________________\n",
      "batch_norm2 (BatchNormalization (None, 32)           128         dropout2[0][0]                   \n",
      "__________________________________________________________________________________________________\n",
      "flatten (Flatten)               (None, 64)           0           embedding[0][0]                  \n",
      "__________________________________________________________________________________________________\n",
      "flatten_1 (Flatten)             (None, 64)           0           embedding_1[0][0]                \n",
      "__________________________________________________________________________________________________\n",
      "mlp_layer3 (Dense)              (None, 16)           528         batch_norm2[0][0]                \n",
      "__________________________________________________________________________________________________\n",
      "multiply (Multiply)             (None, 64)           0           flatten[0][0]                    \n",
      "                                                                 flatten_1[0][0]                  \n",
      "__________________________________________________________________________________________________\n",
      "mlp_layer4 (Dense)              (None, 8)            136         mlp_layer3[0][0]                 \n",
      "__________________________________________________________________________________________________\n",
      "concatenate_1 (Concatenate)     (None, 72)           0           multiply[0][0]                   \n",
      "                                                                 mlp_layer4[0][0]                 \n",
      "__________________________________________________________________________________________________\n",
      "output_layer (Dense)            (None, 1)            73          concatenate_1[0][0]              \n",
      "==================================================================================================\n",
      "Total params: 1,933,761\n",
      "Trainable params: 1,933,569\n",
      "Non-trainable params: 192\n",
      "__________________________________________________________________________________________________\n"
     ]
    }
   ],
   "source": [
    "model.summary()"
   ]
  },
  {
   "cell_type": "code",
   "execution_count": 15,
   "metadata": {
    "scrolled": false
   },
   "outputs": [
    {
     "name": "stdout",
     "output_type": "stream",
     "text": [
      "Epoch 1/20\n",
      "4311/4311 [==============================] - 58s 13ms/step - loss: 0.3182\n",
      "Epoch 2/20\n",
      "4311/4311 [==============================] - 50s 12ms/step - loss: 0.1268\n",
      "Epoch 3/20\n",
      "4311/4311 [==============================] - 52s 12ms/step - loss: 0.0816\n",
      "Epoch 4/20\n",
      "4311/4311 [==============================] - 50s 12ms/step - loss: 0.0600\n",
      "Epoch 5/20\n",
      "4311/4311 [==============================] - 51s 12ms/step - loss: 0.0461\n",
      "Epoch 6/20\n",
      "4311/4311 [==============================] - 50s 12ms/step - loss: 0.0390\n",
      "Epoch 7/20\n",
      "4311/4311 [==============================] - 50s 12ms/step - loss: 0.0365\n",
      "Epoch 8/20\n",
      "4311/4311 [==============================] - ETA: 0s - loss: 0.035 - 50s 12ms/step - loss: 0.0357\n",
      "Epoch 9/20\n",
      "4311/4311 [==============================] - 50s 12ms/step - loss: 0.0353 0s - \n",
      "Epoch 10/20\n",
      "4311/4311 [==============================] - 50s 12ms/step - loss: 0.0352\n",
      "Epoch 11/20\n",
      "4311/4311 [==============================] - 52s 12ms/step - loss: 0.0351\n",
      "Epoch 12/20\n",
      "4311/4311 [==============================] - 50s 11ms/step - loss: 0.0350\n",
      "Epoch 13/20\n",
      "4311/4311 [==============================] - 50s 12ms/step - loss: 0.0350\n",
      "Epoch 14/20\n",
      "4311/4311 [==============================] - 50s 12ms/step - loss: 0.0350 0s - loss\n",
      "Epoch 15/20\n",
      "4311/4311 [==============================] - 49s 11ms/step - loss: 0.0350\n",
      "Epoch 16/20\n",
      "4311/4311 [==============================] - 50s 12ms/step - loss: 0.0350\n",
      "Epoch 17/20\n",
      "4311/4311 [==============================] - 51s 12ms/step - loss: 0.0350\n",
      "Epoch 18/20\n",
      "4311/4311 [==============================] - 50s 11ms/step - loss: 0.0350\n",
      "Epoch 19/20\n",
      "4311/4311 [==============================] - 50s 12ms/step - loss: 0.0349\n",
      "Epoch 20/20\n",
      "4311/4311 [==============================] - 50s 12ms/step - loss: 0.0349\n"
     ]
    },
    {
     "data": {
      "text/plain": [
       "<tensorflow.python.keras.callbacks.History at 0x1e598b4c8b0>"
      ]
     },
     "execution_count": 15,
     "metadata": {},
     "output_type": "execute_result"
    }
   ],
   "source": [
    "model.fit([user_data_shuff, item_data_shuff], label_data_shuff, epochs=20,\n",
    "               batch_size=256, verbose=1)"
   ]
  },
  {
   "cell_type": "markdown",
   "metadata": {},
   "source": [
    "# Predict"
   ]
  },
  {
   "cell_type": "code",
   "execution_count": 16,
   "metadata": {},
   "outputs": [],
   "source": [
    "user_dict = dict(zip(user_course_inter_df['user'].tolist(), user_course_inter_df['user_id'].tolist()))\n",
    "item_dict = dict(zip(user_course_inter_df['item'].tolist(), user_course_inter_df['item_id'].tolist()))"
   ]
  },
  {
   "cell_type": "code",
   "execution_count": 17,
   "metadata": {},
   "outputs": [],
   "source": [
    "model.save('./pretrain/base-ncf-64.h5')"
   ]
  },
  {
   "cell_type": "code",
   "execution_count": 18,
   "metadata": {},
   "outputs": [],
   "source": [
    "def predict_return(u, K):\n",
    "    user=user_course_inter_df[user_course_inter_df['user_id']==u]['user'].iloc[0]\n",
    "\n",
    "    full = set(user_course_test['item_id'].tolist())\n",
    "    asis = set(user_course_train[user_course_train['user_id']==u]['item_id'].tolist())\n",
    "    pred_cand_list = list(full-asis)\n",
    "    #print(len(full),len(asis),len(pred_cand_list))\n",
    "    pred_user_list = [u for i in range(len(pred_cand_list))]\n",
    "\n",
    "    pred_user = np.array(pred_user_list).reshape(-1,1)\n",
    "    pred_cand = np.array(pred_cand_list).reshape(-1,1)\n",
    "\n",
    "    # predict 진행\n",
    "    predictions = model.predict([pred_user, pred_cand])\n",
    "    predictions = predictions.flatten().tolist()\n",
    "\n",
    "    pred_dict = dict(zip(pred_cand_list, predictions))\n",
    "    pred_df = pd.DataFrame({'item':pred_cand_list, 'score':predictions})\n",
    "\n",
    "    # 유저에 해당되는 전공 과목 리스트 가져옴\n",
    "    temp_user_major = major_course[user_major[user][0]]\n",
    "    for i in range(len(temp_user_major)):\n",
    "        try:\n",
    "            temp_user_major[i] = item_dict[temp_user_major[i]]\n",
    "        except:\n",
    "            pass\n",
    "    #temp_user_major = list(map(lambda x:item_dict[x],temp_user_major))\n",
    "\n",
    "    # 전공, 비전공 분류\n",
    "    req_df = pred_df[pred_df['item'].isin(temp_user_major)]\n",
    "    fre_df = pred_df[~pred_df['item'].isin(temp_user_major)]\n",
    "\n",
    "    # 예측결과 정렬해서 list 형태 출력\n",
    "    req_list = req_df.sort_values(by='score',ascending=False)['item'].tolist()\n",
    "    fre_list = fre_df.sort_values(by='score',ascending=False)['item'].tolist()\n",
    "\n",
    "    return(req_list[0:K], fre_list[0:K])"
   ]
  },
  {
   "cell_type": "code",
   "execution_count": 19,
   "metadata": {},
   "outputs": [
    {
     "data": {
      "text/plain": [
       "([1457, 1456, 1458, 1500, 1484], [2968, 1185, 2537, 1027, 252])"
      ]
     },
     "execution_count": 19,
     "metadata": {},
     "output_type": "execute_result"
    }
   ],
   "source": [
    "# user_id, K input으로\n",
    "predict_return(1,5)"
   ]
  },
  {
   "cell_type": "markdown",
   "metadata": {},
   "source": [
    "# Evaluate"
   ]
  },
  {
   "cell_type": "code",
   "execution_count": 20,
   "metadata": {},
   "outputs": [],
   "source": [
    "import numpy as np\n",
    "\n",
    "def recall_(p,r):\n",
    "    try:\n",
    "        return(int(sum(p))/int(len(r)))\n",
    "    except:\n",
    "        return(0)\n",
    "\n",
    "def precision_at_k(r, k):\n",
    "    assert k >= 1\n",
    "    r = np.asarray(r)[:k] != 0\n",
    "    #print(r)\n",
    "    if r.size != k:\n",
    "        raise ValueError('Relevance score length < k')\n",
    "    return np.mean(r)\n",
    "\n",
    "\n",
    "def average_precision(r):\n",
    "    r = np.asarray(r) != 0\n",
    "    out = [precision_at_k(r, k + 1) for k in range(r.size) if r[k]]\n",
    "    if not out:\n",
    "        return 0.\n",
    "    return np.mean(out)\n",
    "\n",
    "\n",
    "def mean_average_precision(rs):\n",
    "    return np.mean([average_precision(r) for r in rs])\n",
    "\n",
    "def dcg_at_k(r, k, method=0):\n",
    "    r = np.asfarray(r)[:k]\n",
    "    if r.size:\n",
    "        if method == 0:\n",
    "            return r[0] + np.sum(r[1:] / np.log2(np.arange(2, r.size + 1)))\n",
    "        elif method == 1:\n",
    "            return np.sum(r / np.log2(np.arange(2, r.size + 2)))\n",
    "        else:\n",
    "            raise ValueError('method must be 0 or 1.')\n",
    "    return 0.\n",
    "\n",
    "def ndcg_at_k(r, k=20, method=1):\n",
    "    dcg_max = dcg_at_k(sorted(r, reverse=True), k, method)\n",
    "    if not dcg_max:\n",
    "        return 0.\n",
    "    return dcg_at_k(r, k, method) / dcg_max"
   ]
  },
  {
   "cell_type": "code",
   "execution_count": 21,
   "metadata": {},
   "outputs": [],
   "source": [
    "def asis_return(u):\n",
    "    user=user_course_inter_df[user_course_inter_df['user_id']==u]['user'].iloc[0]\n",
    "\n",
    "    # 유저에 해당되는 전공 과목 리스트 가져옴\n",
    "    temp_user_major = major_course[user_major[user][0]]\n",
    "    for i in range(len(temp_user_major)):\n",
    "        try:\n",
    "            temp_user_major[i] = item_dict[temp_user_major[i]]\n",
    "        except:\n",
    "            pass\n",
    "    #temp_user_major = list(map(lambda x:item_dict[x],temp_user_major))\n",
    "\n",
    "    temp_asis_df = user_course_test[user_course_test['user_id']==u].copy()\n",
    "\n",
    "    req_asis = temp_asis_df[temp_asis_df['item_id'].isin(temp_user_major)]\n",
    "    fre_asis = temp_asis_df[~temp_asis_df['item_id'].isin(temp_user_major)]\n",
    "\n",
    "    return(req_asis['item_id'].tolist(), fre_asis['item_id'].tolist())"
   ]
  },
  {
   "cell_type": "code",
   "execution_count": 22,
   "metadata": {},
   "outputs": [
    {
     "data": {
      "text/plain": [
       "([1540, 1514, 1506, 1484, 1459, 1492], [2980, 1026])"
      ]
     },
     "execution_count": 22,
     "metadata": {},
     "output_type": "execute_result"
    }
   ],
   "source": [
    "# user_id 만 집어넣음\n",
    "asis_return(1)"
   ]
  },
  {
   "cell_type": "code",
   "execution_count": 23,
   "metadata": {},
   "outputs": [
    {
     "name": "stderr",
     "output_type": "stream",
     "text": [
      "100%|████████████████████████████████████████████████████████████████████████████| 12031/12031 [13:48<00:00, 14.52it/s]\n"
     ]
    }
   ],
   "source": [
    "p=[]\n",
    "r=[]\n",
    "\n",
    "for i in tqdm(range(12031)):\n",
    "    eval_gt = asis_return(i)\n",
    "    eval_pred = predict_return(i,10) # pred개수\n",
    "\n",
    "    temp_req=[1 if c in eval_gt[0] else 0 for c in eval_pred[0]]\n",
    "    #temp_pre=[1 if c in eval_gt[1] else 0 for c in eval_pred[1]]\n",
    "\n",
    "    #precision_at_k(temp_req,10)\n",
    "    \n",
    "    # 앞에 temp, 뒤에 gt\n",
    "    #recall_(temp_req, eval_gt[0])\n",
    "    if eval_gt[0] != []:\n",
    "        p.append(precision_at_k(temp_req,len(temp_req)))\n",
    "        r.append(recall_(temp_req, eval_gt[0]))"
   ]
  },
  {
   "cell_type": "code",
   "execution_count": 24,
   "metadata": {},
   "outputs": [
    {
     "name": "stdout",
     "output_type": "stream",
     "text": [
      "0.25484389256951806\n",
      "0.6319921832031801\n"
     ]
    }
   ],
   "source": [
    "print(sum(p)/len(p))\n",
    "print(sum(r)/len(r))"
   ]
  },
  {
   "cell_type": "code",
   "execution_count": null,
   "metadata": {},
   "outputs": [],
   "source": []
  },
  {
   "cell_type": "code",
   "execution_count": null,
   "metadata": {},
   "outputs": [],
   "source": []
  },
  {
   "cell_type": "code",
   "execution_count": null,
   "metadata": {},
   "outputs": [],
   "source": []
  }
 ],
 "metadata": {
  "kernelspec": {
   "display_name": "tf_keras_edu",
   "language": "python",
   "name": "tf_keras_edu"
  },
  "language_info": {
   "codemirror_mode": {
    "name": "ipython",
    "version": 3
   },
   "file_extension": ".py",
   "mimetype": "text/x-python",
   "name": "python",
   "nbconvert_exporter": "python",
   "pygments_lexer": "ipython3",
   "version": "3.8.5"
  }
 },
 "nbformat": 4,
 "nbformat_minor": 4
}
